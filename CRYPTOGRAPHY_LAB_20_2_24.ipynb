{
 "cells": [
  {
   "cell_type": "code",
   "execution_count": 6,
   "id": "3be14f1e",
   "metadata": {},
   "outputs": [
    {
     "name": "stdout",
     "output_type": "stream",
     "text": [
      "Enter the plain text: university\n",
      "Enter the number of shifts needed: 2\n",
      "Encrypted text is  wpkxgtukva\n",
      "Decrypted text is  university\n"
     ]
    }
   ],
   "source": [
    "def encryption(p, s):\n",
    "    encrypted_text = ''\n",
    "    for char in p:\n",
    "        if char.isalpha():\n",
    "            if char.islower():\n",
    "                encrypted_text += chr((ord(char) - 97 + s) % 26 + 97)\n",
    "            else:\n",
    "                encrypted_text += chr((ord(char) - 65 + s) % 26 + 65)\n",
    "        else:\n",
    "            encrypted_text += char\n",
    "    return encrypted_text\n",
    "\n",
    "def decryption(c, s):\n",
    "    decrypted_text = ''\n",
    "    for char in c:\n",
    "        if char.isalpha():\n",
    "            if char.islower():\n",
    "                decrypted_text += chr((ord(char) - 97 - s) % 26 + 97)\n",
    "            else:\n",
    "                decrypted_text += chr((ord(char) - 65 - s) % 26 + 65)\n",
    "        else:\n",
    "            decrypted_text += char\n",
    "    return decrypted_text\n",
    "\n",
    "p = input(\"Enter the plain text: \")\n",
    "s = int(input(\"Enter the number of shifts needed: \"))\n",
    "c = encryption(p, s)\n",
    "print(\"Encrypted text is \", c)\n",
    "d = decryption(c, s)\n",
    "print(\"Decrypted text is \", d)\n"
   ]
  },
  {
   "cell_type": "code",
   "execution_count": 7,
   "id": "3fe67985",
   "metadata": {},
   "outputs": [
    {
     "name": "stdout",
     "output_type": "stream",
     "text": [
      "Enter your first name: Anjali\n",
      "Enter your roll number: 231504\n",
      "Encrypted Name: Fsofqn\n"
     ]
    }
   ],
   "source": [
    "def sub_cipher(name, shift):\n",
    "    encrypted_name = ''\n",
    "    for char in name:\n",
    "        if char.isalpha():\n",
    "            if char.islower():\n",
    "                encrypted_name += chr(((ord(char) - 97 + shift) % 26) + 97)\n",
    "            else:\n",
    "                encrypted_name += chr(((ord(char) - 65 + shift) % 26) + 65)\n",
    "        else:\n",
    "            encrypted_name += char\n",
    "    return encrypted_name\n",
    "first_name = input(\"Enter your first name: \")\n",
    "roll_number = input(\"Enter your roll number: \")\n",
    "shift_value = sum(int(digit) for digit in roll_number if digit.isdigit())\n",
    "shift_value %= 10\n",
    "encrypted_name = sub_cipher(first_name, shift_value)\n",
    "print(\" The encrypted Name:\", encrypted_name)\n"
   ]
  },
  {
   "cell_type": "code",
   "execution_count": null,
   "id": "ef3c7e2d",
   "metadata": {},
   "outputs": [],
   "source": []
  }
 ],
 "metadata": {
  "kernelspec": {
   "display_name": "Python 3 (ipykernel)",
   "language": "python",
   "name": "python3"
  },
  "language_info": {
   "codemirror_mode": {
    "name": "ipython",
    "version": 3
   },
   "file_extension": ".py",
   "mimetype": "text/x-python",
   "name": "python",
   "nbconvert_exporter": "python",
   "pygments_lexer": "ipython3",
   "version": "3.11.5"
  }
 },
 "nbformat": 4,
 "nbformat_minor": 5
}
