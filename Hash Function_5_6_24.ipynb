{
 "cells": [
  {
   "cell_type": "code",
   "execution_count": 1,
   "id": "81b9f707-757e-4eeb-bc74-b30ae122c8b3",
   "metadata": {},
   "outputs": [
    {
     "name": "stdin",
     "output_type": "stream",
     "text": [
      "Enter a string to generate hash values:  kerala\n"
     ]
    },
    {
     "name": "stdout",
     "output_type": "stream",
     "text": [
      "Binary Representation: 011010110110010101110010011000010110110001100001\n",
      "4-bit Segments: ['0110', '1011', '0110', '0101', '0111', '0010', '0110', '0001', '0110', '1100', '0110', '0001']\n",
      "XOR Hash (H1): 0001\n",
      "Modular Addition Hash (H2): 0101\n",
      "Final XOR Hash (H1): 00000001\n",
      "Final Modular Addition Hash (H2): 00000101\n",
      "Hash1 (H1) as Decimal: 1\n",
      "Hash2 (H2) as Decimal: 5\n"
     ]
    }
   ],
   "source": [
    "def string_to_binary(input_string):\n",
    "    binary_string = ''\n",
    "    for char in input_string:\n",
    "        ascii_value = ord(char)  \n",
    "        binary_value = format(ascii_value, '08b')  \n",
    "        binary_string += binary_value  \n",
    "    return binary_string\n",
    "\n",
    "def divide_into_4bit_segments(binary_string):\n",
    "    segments = [binary_string[i:i+4] for i in range(0, len(binary_string), 4)]\n",
    "    return segments\n",
    "\n",
    "def xor_hash(segments):\n",
    "    hash_value = 0\n",
    "    for segment in segments:\n",
    "        hash_value ^= int(segment, 2)\n",
    "    return format(hash_value, '04b')\n",
    "\n",
    "def modular_addition_hash(segments):\n",
    "    hash_value = 0\n",
    "    for segment in segments:\n",
    "        hash_value = (hash_value + int(segment, 2)) % 16\n",
    "    return format(hash_value, '04b')\n",
    "\n",
    "def binary_to_decimal(binary_string):\n",
    "    decimal_value = int(binary_string, 2)\n",
    "    return decimal_value\n",
    "\n",
    "def generate_hashes(input_string):\n",
    "    binary_string = string_to_binary(input_string)\n",
    "    print(f\"Binary Representation: {binary_string}\")\n",
    "    \n",
    "    segments = divide_into_4bit_segments(binary_string)\n",
    "    print(f\"4-bit Segments: {segments}\")\n",
    "    \n",
    "    hash1 = xor_hash(segments)\n",
    "    print(f\"XOR Hash (H1): {hash1}\")\n",
    "    \n",
    "    hash2 = modular_addition_hash(segments)\n",
    "    print(f\"Modular Addition Hash (H2): {hash2}\")\n",
    "    \n",
    "    return hash1, hash2\n",
    "\n",
    "input_string = input(\"Enter a string to generate hash values: \")\n",
    "\n",
    "hash1, hash2 = generate_hashes(input_string)\n",
    "\n",
    "hash1 = hash1.zfill(8)\n",
    "hash2 = hash2.zfill(8)\n",
    "\n",
    "print(f\"Final XOR Hash (H1): {hash1}\")\n",
    "print(f\"Final Modular Addition Hash (H2): {hash2}\")\n",
    "\n",
    "decimal_hash1 = binary_to_decimal(hash1)\n",
    "decimal_hash2 = binary_to_decimal(hash2)\n",
    "\n",
    "print(f\"Hash1 (H1) as Decimal: {decimal_hash1}\")\n",
    "print(f\"Hash2 (H2) as Decimal: {decimal_hash2}\")\n",
    "\n",
    "\n"
   ]
  }
 ],
 "metadata": {
  "kernelspec": {
   "display_name": "Python 3 (ipykernel)",
   "language": "python",
   "name": "python3"
  },
  "language_info": {
   "codemirror_mode": {
    "name": "ipython",
    "version": 3
   },
   "file_extension": ".py",
   "mimetype": "text/x-python",
   "name": "python",
   "nbconvert_exporter": "python",
   "pygments_lexer": "ipython3",
   "version": "3.12.3"
  }
 },
 "nbformat": 4,
 "nbformat_minor": 5
}
