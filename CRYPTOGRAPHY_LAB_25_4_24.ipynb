{
 "cells": [
  {
   "cell_type": "code",
   "execution_count": 8,
   "id": "d222e8f8",
   "metadata": {},
   "outputs": [
    {
     "name": "stdout",
     "output_type": "stream",
     "text": [
      "Enter the plain text: digital\n",
      "Counter Mode (CTR):\n",
      "Plaintext: digital\n",
      "Ciphertext: 3dbfaf348c9ff0737b7552b893a23525e2e01c1c2bee0b\n",
      "Decrypted Text: digital\n",
      "\n",
      "Cipher Feedback Mode (CFB):\n",
      "Plaintext: digital\n",
      "Ciphertext: 2a24f56e0e7c53c5a5fc54e18fcbe2af0500624b5a809e\n",
      "Decrypted Text: digital\n"
     ]
    }
   ],
   "source": [
    "from cryptography.hazmat.primitives.ciphers import Cipher, algorithms, modes\n",
    "from cryptography.hazmat.backends import default_backend\n",
    "from os import urandom\n",
    "\n",
    "def encrypt_ctr(plaintext, key):\n",
    "    iv = urandom(16)\n",
    "    cipher = Cipher(algorithms.AES(key), modes.CTR(iv), backend=default_backend())\n",
    "    encryptor = cipher.encryptor()\n",
    "    ciphertext = encryptor.update(plaintext) + encryptor.finalize()\n",
    "    return iv + ciphertext\n",
    "\n",
    "\n",
    "def decrypt_ctr(ciphertext, key):\n",
    "    iv = ciphertext[:16]\n",
    "    ciphertext = ciphertext[16:]\n",
    "    cipher = Cipher(algorithms.AES(key), modes.CTR(iv), backend=default_backend())\n",
    "    decryptor = cipher.decryptor()\n",
    "    plaintext = decryptor.update(ciphertext) + decryptor.finalize()\n",
    "    return plaintext\n",
    "\n",
    "\n",
    "def encrypt_cfb(plaintext, key):\n",
    "    iv = urandom(16)\n",
    "    cipher = Cipher(algorithms.AES(key), modes.CFB(iv), backend=default_backend())\n",
    "    encryptor = cipher.encryptor()\n",
    "    ciphertext = encryptor.update(plaintext) + encryptor.finalize()\n",
    "    return iv + ciphertext\n",
    "\n",
    "\n",
    "def decrypt_cfb(ciphertext, key):\n",
    "    iv = ciphertext[:16]\n",
    "    ciphertext = ciphertext[16:]\n",
    "    cipher = Cipher(algorithms.AES(key), modes.CFB(iv), backend=default_backend())\n",
    "    decryptor = cipher.decryptor()\n",
    "    plaintext = decryptor.update(ciphertext) + decryptor.finalize()\n",
    "    return plaintext\n",
    "\n",
    "plaintext = input(\"Enter the plain text: \").encode()\n",
    "key = urandom(16)\n",
    "\n",
    "ciphertext_ctr = encrypt_ctr(plaintext, key)\n",
    "decrypted_text_ctr = decrypt_ctr(ciphertext_ctr, key)\n",
    "print(\"Counter Mode (CTR):\")\n",
    "print(\"Plaintext:\", plaintext.decode())\n",
    "print(\"Ciphertext:\", ciphertext_ctr.hex())\n",
    "print(\"Decrypted Text:\", decrypted_text_ctr.decode())\n",
    "\n",
    "ciphertext_cfb = encrypt_cfb(plaintext, key)\n",
    "decrypted_text_cfb = decrypt_cfb(ciphertext_cfb, key)\n",
    "print(\"\\nCipher Feedback Mode (CFB):\")\n",
    "print(\"Plaintext:\", plaintext.decode())\n",
    "print(\"Ciphertext:\", ciphertext_cfb.hex())\n",
    "print(\"Decrypted Text:\", decrypted_text_cfb.decode())\n"
   ]
  }
 ],
 "metadata": {
  "kernelspec": {
   "display_name": "Python 3 (ipykernel)",
   "language": "python",
   "name": "python3"
  },
  "language_info": {
   "codemirror_mode": {
    "name": "ipython",
    "version": 3
   },
   "file_extension": ".py",
   "mimetype": "text/x-python",
   "name": "python",
   "nbconvert_exporter": "python",
   "pygments_lexer": "ipython3",
   "version": "3.11.5"
  }
 },
 "nbformat": 4,
 "nbformat_minor": 5
}
