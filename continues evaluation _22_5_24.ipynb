{
 "cells": [
  {
   "cell_type": "code",
   "execution_count": 1,
   "id": "6232fa5f-541e-4061-82f7-49585f66c403",
   "metadata": {},
   "outputs": [
    {
     "name": "stdin",
     "output_type": "stream",
     "text": [
      "Enter an integer:  23\n"
     ]
    },
    {
     "name": "stdout",
     "output_type": "stream",
     "text": [
      "23 is a prime number\n",
      "Primitive roots modulo 23 : [5, 7, 10, 11, 14, 15, 17, 19, 20, 21]\n"
     ]
    },
    {
     "name": "stdin",
     "output_type": "stream",
     "text": [
      "Choose a primitive root (g < 23):  11\n",
      "Enter private key for Alice (a):  45\n",
      "Enter private key for Bob (b):  56\n"
     ]
    },
    {
     "name": "stdout",
     "output_type": "stream",
     "text": [
      "Secret Key K1 (Alice): 12\n",
      "Secret Key K2 (Bob): 12\n"
     ]
    },
    {
     "name": "stdin",
     "output_type": "stream",
     "text": [
      "Enter the message to be encrypted and decrypted:  kerala\n"
     ]
    },
    {
     "name": "stdout",
     "output_type": "stream",
     "text": [
      "Encrypted Message: wq~mxm\n",
      "Decrypted Message: kerala\n"
     ]
    }
   ],
   "source": [
    "def prime_no(p):\n",
    "    if p==1:\n",
    "        return False \n",
    "    for i in range (2,int(p**0.5)+1):\n",
    "        if p%i==0 or p<2:\n",
    "            return False\n",
    "    return True\n",
    "p=int(input(\"Enter an integer: \"))\n",
    "l=prime_no(p)\n",
    "if l:\n",
    "    print(f\"{p} is a prime number\")\n",
    "else:\n",
    "    print(f\"{p} is not a prime number\")\n",
    "\n",
    "def primitive_root(p):\n",
    "    primitive_roots = []\n",
    "    for g in range(2, p):\n",
    "        residues = set(pow(g, i, p) for i in range(1, p))\n",
    "        if len(residues) == p - 1:\n",
    "            primitive_roots.append(g)\n",
    "    return primitive_roots\n",
    "\n",
    "def diffie_hellman(p, g, a, b):\n",
    "    P = (g**a)%p    \n",
    "    G = (g**b)%p    \n",
    "    K1 = (G**a)%p   \n",
    "    K2 = (P**b)%p   \n",
    "    return K1, K2\n",
    "\n",
    "def encrypt_message(message, key):\n",
    "    encrypted_message = \"\"\n",
    "    for char in message:\n",
    "        encrypted_char = chr((ord(char) + key) % 256)\n",
    "        encrypted_message += encrypted_char\n",
    "    return encrypted_message\n",
    "\n",
    "def decrypt_message(encrypted_message, key):\n",
    "    decrypted_message = \"\"\n",
    "    for char in encrypted_message:\n",
    "        decrypted_char = chr((ord(char) - key) % 256)\n",
    "        decrypted_message += decrypted_char\n",
    "    return decrypted_message\n",
    "\n",
    "\n",
    "primitive_roots = primitive_root(p)\n",
    "if len(primitive_roots) == 0:\n",
    "    print(\"No primitive roots found for the given prime.\")\n",
    "    quit()\n",
    "\n",
    "print(\"Primitive roots modulo\", p, \":\", primitive_roots)    \n",
    "g = int(input(f\"Choose a primitive root (g < {p}): \"))\n",
    "if g not in primitive_roots:\n",
    "    print(\"Invalid input! Please choose a primitive root.\")\n",
    "    quit()\n",
    "\n",
    "a = int(input(\"Enter private key for Alice (a): \"))\n",
    "b = int(input(\"Enter private key for Bob (b): \"))\n",
    "\n",
    "K1, K2 = diffie_hellman(p, g, a, b)\n",
    "\n",
    "print(\"Secret Key K1 (Alice):\", K1)\n",
    "print(\"Secret Key K2 (Bob):\", K2)\n",
    "\n",
    "message = input(\"Enter the message to be encrypted and decrypted: \")\n",
    "\n",
    "encrypted_message = encrypt_message(message, K1)\n",
    "print(\"Encrypted Message:\", encrypted_message)\n",
    "decrypted_message = decrypt_message(encrypted_message, K2)\n",
    "print(\"Decrypted Message:\", decrypted_message)"
   ]
  },
  {
   "cell_type": "code",
   "execution_count": null,
   "id": "d36729f4-5a8b-43d2-8772-b96f9a3e237e",
   "metadata": {},
   "outputs": [],
   "source": []
  }
 ],
 "metadata": {
  "kernelspec": {
   "display_name": "Python 3 (ipykernel)",
   "language": "python",
   "name": "python3"
  },
  "language_info": {
   "codemirror_mode": {
    "name": "ipython",
    "version": 3
   },
   "file_extension": ".py",
   "mimetype": "text/x-python",
   "name": "python",
   "nbconvert_exporter": "python",
   "pygments_lexer": "ipython3",
   "version": "3.12.3"
  }
 },
 "nbformat": 4,
 "nbformat_minor": 5
}
