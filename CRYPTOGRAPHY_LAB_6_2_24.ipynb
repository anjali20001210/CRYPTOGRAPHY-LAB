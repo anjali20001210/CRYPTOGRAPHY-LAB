{
 "cells": [
  {
   "cell_type": "code",
   "execution_count": 16,
   "id": "a7d6e399",
   "metadata": {},
   "outputs": [
    {
     "name": "stdout",
     "output_type": "stream",
     "text": [
      "Enter an integer: 3\n",
      "3 is a prime number\n"
     ]
    }
   ],
   "source": [
    "def prime_no(n):\n",
    "    if n==1:\n",
    "        return False \n",
    "    for i in range (2,int(n**0.5)+1):\n",
    "        if n%i==0 or n<2:\n",
    "            return False\n",
    "    return True\n",
    "n=int(input(\"Enter an integer: \"))\n",
    "l=prime_no(n)\n",
    "if l:\n",
    "    print(f\"{n} is a prime number\")\n",
    "else:\n",
    "    print(f\"{n} is not a prime number\")"
   ]
  },
  {
   "cell_type": "code",
   "execution_count": 17,
   "id": "ea077cf6",
   "metadata": {},
   "outputs": [
    {
     "name": "stdout",
     "output_type": "stream",
     "text": [
      "Enter an integer: 120\n",
      "The number 120 has 5 prime factors.\n"
     ]
    }
   ],
   "source": [
    "def count_prime(n):\n",
    "    count=0\n",
    "    for i in range (2,int(n**0.5)+1):\n",
    "        while n%i==0:\n",
    "            count=count+1\n",
    "            n=n//i\n",
    "    if n>1:\n",
    "        count=count+1\n",
    "    return count    \n",
    "n=int(input(\"Enter an integer: \"))\n",
    "l=count_prime(n)\n",
    "print(f\"The number {n} has {l} prime factors.\")"
   ]
  },
  {
   "cell_type": "code",
   "execution_count": 1,
   "id": "91b49f16",
   "metadata": {},
   "outputs": [
    {
     "name": "stdout",
     "output_type": "stream",
     "text": [
      "Enter an integer: 120\n",
      "Enter an integer: 60\n",
      "The GCD of 120 and 60 is 60\n"
     ]
    }
   ],
   "source": [
    "def gcd(n,m):\n",
    "    while m:\n",
    "        n, m = m, n % m\n",
    "    return n\n",
    "n=int(input(\"Enter an integer: \"))\n",
    "m=int(input(\"Enter an integer: \"))\n",
    "a = gcd(n,m)\n",
    "print(f\"The GCD of {n} and {m} is {a}\")\n",
    "\n",
    "    \n",
    "    \n",
    "    \n",
    "    "
   ]
  },
  {
   "cell_type": "code",
   "execution_count": 2,
   "id": "a525afd0",
   "metadata": {},
   "outputs": [
    {
     "name": "stdout",
     "output_type": "stream",
     "text": [
      "Enter an integer: 45\n",
      "Enter an integer: 25\n",
      "The LCM of 45 and 25 is 225\n"
     ]
    }
   ],
   "source": [
    "def gcd(n,m):\n",
    "    while m:\n",
    "        n, m = m, n % m\n",
    "    return n\n",
    "\n",
    "def lcm(x, y):\n",
    "    a = gcd(x,y)\n",
    "    lcm = abs(x * y) // a\n",
    "    return lcm\n",
    "n=int(input(\"Enter an integer: \"))\n",
    "m=int(input(\"Enter an integer: \"))\n",
    "b = lcm(n,m)\n",
    "print(f\"The LCM of {n} and {m} is {b}\")"
   ]
  },
  {
   "cell_type": "code",
   "execution_count": null,
   "id": "b5b597a5",
   "metadata": {},
   "outputs": [],
   "source": []
  }
 ],
 "metadata": {
  "kernelspec": {
   "display_name": "Python 3 (ipykernel)",
   "language": "python",
   "name": "python3"
  },
  "language_info": {
   "codemirror_mode": {
    "name": "ipython",
    "version": 3
   },
   "file_extension": ".py",
   "mimetype": "text/x-python",
   "name": "python",
   "nbconvert_exporter": "python",
   "pygments_lexer": "ipython3",
   "version": "3.11.5"
  }
 },
 "nbformat": 4,
 "nbformat_minor": 5
}
