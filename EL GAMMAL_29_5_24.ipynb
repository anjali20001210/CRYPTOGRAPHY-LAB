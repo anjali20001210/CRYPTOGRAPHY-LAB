{
 "cells": [
  {
   "cell_type": "code",
   "execution_count": 20,
   "id": "05428c18-a1ef-4c3e-b899-13048a452b01",
   "metadata": {},
   "outputs": [
    {
     "name": "stdout",
     "output_type": "stream",
     "text": [
      "Alice's public key (p, g, y): 13 2 12\n",
      "message: 5\n",
      "Encrypted message (a, c): 6 8\n",
      "Decrypted message: 5\n"
     ]
    }
   ],
   "source": [
    "import random\n",
    "def is_prime(n):\n",
    "    if n <= 1:\n",
    "        return False\n",
    "    if n <= 3:\n",
    "        return True\n",
    "    if n % 2 == 0 or n % 3 == 0:\n",
    "        return False\n",
    "    i = 5\n",
    "    while i * i <= n:\n",
    "        if n % i == 0 or n % (i + 2) == 0:\n",
    "            return False\n",
    "        i += 6\n",
    "    return True\n",
    "def primitive_root(p):\n",
    "    primitive_roots = []\n",
    "    for g in range(2, p):\n",
    "        residues = set(pow(g, i, p) for i in range(1, p))\n",
    "        if len(residues) == p - 1:\n",
    "            primitive_roots.append(g)\n",
    "    return primitive_roots\n",
    "\n",
    "def mod_exp(g, exp, p):\n",
    "    return pow(g, exp, p)\n",
    "\n",
    "def generate_private_key(p):\n",
    "    return random.randint(2, p-2)\n",
    "\n",
    "def generate_public_key(g, x, p):\n",
    "    return mod_exp(g, x, p)\n",
    "\n",
    "def encrypt(m, y, k, p, g):\n",
    "    a = mod_exp(g, k, p)\n",
    "    c = (m * mod_exp(y, k, p)) % p\n",
    "    return a, c\n",
    "\n",
    "def discrete_log(g, a, p):\n",
    "    for x in range(p):\n",
    "        if mod_exp(g, x, p) == a:\n",
    "            return x\n",
    "    return None\n",
    "\n",
    "def elgamal_decrypt(ciphertext, private_key, p):\n",
    "    a, c = ciphertext\n",
    "    x_found = discrete_log(a, pow(a, private_key, p), p)\n",
    "    if x_found is not None:\n",
    "        decrypted_message = (c * pow(a, p-1-x_found, p)) % p\n",
    "        return decrypted_message\n",
    "    else:\n",
    "        return None\n",
    "\n",
    "\n",
    "p = 13  \n",
    "if not is_prime(p):\n",
    "    print(\"p is not prime.\")\n",
    "    exit()\n",
    "\n",
    "g = primitive_root(p)[0]  \n",
    "x = generate_private_key(p)\n",
    "y = generate_public_key(g, x, p)\n",
    "\n",
    "print(\"Alice's public key (p, g, y):\", p, g, y)\n",
    "\n",
    "\n",
    "k = random.randint(2, p-2) \n",
    "m = 5  \n",
    "print(\"message:\",m)\n",
    "a, c = encrypt(m, y, k, p, g)\n",
    "print(\"Encrypted message (a, c):\", a, c)\n",
    "\n",
    "decrypted_message = elgamal_decrypt((a, c), x, p)\n",
    "if decrypted_message is not None:\n",
    "    print(\"Decrypted message:\", decrypted_message)\n",
    "else:\n",
    "    print(\"Decryption failed.\")"
   ]
  },
  {
   "cell_type": "code",
   "execution_count": null,
   "id": "d54f2038-c5e7-4955-845b-d865d95895c3",
   "metadata": {},
   "outputs": [],
   "source": []
  },
  {
   "cell_type": "code",
   "execution_count": null,
   "id": "5088f849-492a-4315-b922-d6065f60f49d",
   "metadata": {},
   "outputs": [],
   "source": []
  }
 ],
 "metadata": {
  "kernelspec": {
   "display_name": "Python 3 (ipykernel)",
   "language": "python",
   "name": "python3"
  },
  "language_info": {
   "codemirror_mode": {
    "name": "ipython",
    "version": 3
   },
   "file_extension": ".py",
   "mimetype": "text/x-python",
   "name": "python",
   "nbconvert_exporter": "python",
   "pygments_lexer": "ipython3",
   "version": "3.12.3"
  }
 },
 "nbformat": 4,
 "nbformat_minor": 5
}
