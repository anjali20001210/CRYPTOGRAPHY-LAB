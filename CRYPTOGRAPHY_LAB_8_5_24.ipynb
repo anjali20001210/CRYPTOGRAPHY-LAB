{
 "cells": [
  {
   "cell_type": "code",
   "execution_count": null,
   "id": "af04ca91-a965-4555-8ef2-c5367de4aecd",
   "metadata": {},
   "outputs": [
    {
     "name": "stdin",
     "output_type": "stream",
     "text": [
      "Enter a prime number :  7\n"
     ]
    },
    {
     "name": "stdout",
     "output_type": "stream",
     "text": [
      "Primitive roots modulo 7 : [3, 5]\n"
     ]
    },
    {
     "name": "stdin",
     "output_type": "stream",
     "text": [
      "Choose a primitive root (g < 7):  5\n"
     ]
    }
   ],
   "source": [
    "def is_prime(num):\n",
    "    if num < 2:\n",
    "        return False\n",
    "    for i in range(2, int(num**0.5) + 1):\n",
    "        if num % i == 0:\n",
    "            return False\n",
    "    return True\n",
    "\n",
    "def find_primitive_root(p):\n",
    "    primitive_roots = []\n",
    "    for g in range(2, p):\n",
    "        residues = set(pow(g, i, p) for i in range(1, p))\n",
    "        if len(residues) == p - 1:\n",
    "            primitive_roots.append(g)\n",
    "    return primitive_roots\n",
    "\n",
    "def diffie_hellman(p, g, a, b):\n",
    "    A = pow(g, a, p)    \n",
    "    B = pow(g, b, p)    \n",
    "    K1 = pow(B, a, p)   \n",
    "    K2 = pow(A, b, p)   \n",
    "    return K1, K2\n",
    "\n",
    "while True:\n",
    "    p = int(input(\"Enter a prime number : \"))\n",
    "    if is_prime(p):\n",
    "        break\n",
    "    print(\"Invalid input! Please enter a prime number.\")\n",
    "\n",
    "primitive_roots = find_primitive_root(p)\n",
    "if len(primitive_roots) == 0:\n",
    "    print(\"No primitive roots found for the given prime.\")\n",
    "    quit()\n",
    "\n",
    "print(\"Primitive roots modulo\", p, \":\", primitive_roots)\n",
    "\n",
    "g = int(input(f\"Choose a primitive root (g < {p}): \"))\n",
    "if g not in primitive_roots:\n",
    "    print(\"Invalid input! Please choose a primitive root.\")\n",
    "    quit()\n",
    "\n",
    "a = int(input(\"Enter private key for User 1 (a): \"))\n",
    "b = int(input(\"Enter private key for User 2 (b): \"))\n",
    "\n",
    "K1, K2 = diffie_hellman(p, g, a, b)\n",
    "\n",
    "print(\"Enter the Secret Key K1 (user 1):\", K1)\n",
    "print(\"Enter the Secret Key K2 (user 2):\", K2)\n",
    "\n",
    "if K1 == K2:\n",
    "    print(\"Keys have been exchanged successfully.\")\n",
    "else:\n",
    "    print(\"Keys have not been exchanged successfully.\")\n"
   ]
  }
 ],
 "metadata": {
  "kernelspec": {
   "display_name": "Python 3 (ipykernel)",
   "language": "python",
   "name": "python3"
  },
  "language_info": {
   "codemirror_mode": {
    "name": "ipython",
    "version": 3
   },
   "file_extension": ".py",
   "mimetype": "text/x-python",
   "name": "python",
   "nbconvert_exporter": "python",
   "pygments_lexer": "ipython3",
   "version": "3.12.3"
  }
 },
 "nbformat": 4,
 "nbformat_minor": 5
}
