{
 "cells": [
  {
   "cell_type": "code",
   "execution_count": 5,
   "id": "53e3000d",
   "metadata": {},
   "outputs": [
    {
     "name": "stdout",
     "output_type": "stream",
     "text": [
      "Enter the text: University\n",
      "Original message: University\n",
      "Encrypted message: vUiierntys\n",
      "Decrypted message: evsiUnyrit\n"
     ]
    }
   ],
   "source": [
    "import random\n",
    "def encrypt(message):\n",
    "    msg_list = list(message)\n",
    "    random.shuffle(msg_list)\n",
    "    encrypted_message = ''.join(msg_list)\n",
    "    return encrypted_message\n",
    "\n",
    "def decrypt(encrypted_message, permutation):\n",
    "    decrypted_list = [''] * len(encrypted_message)\n",
    "    for i, j in enumerate(permutation):\n",
    "        decrypted_list[j] = encrypted_message[i]\n",
    "    decrypted_message = ''.join(decrypted_list)\n",
    "    return decrypted_message\n",
    "\n",
    "message = input(\"Enter the text: \")\n",
    "print(\"Original message:\", message)\n",
    "\n",
    "encrypted_message = encrypt(message)\n",
    "print(\"Encrypted message:\", encrypted_message)\n",
    "\n",
    "permutation = list(range(len(encrypted_message)))\n",
    "random.shuffle(permutation)\n",
    "\n",
    "decrypted_message = decrypt(encrypted_message, permutation)\n",
    "print(\"Decrypted message:\", decrypted_message)\n"
   ]
  },
  {
   "cell_type": "code",
   "execution_count": 8,
   "id": "199745d9",
   "metadata": {},
   "outputs": [
    {
     "name": "stdout",
     "output_type": "stream",
     "text": [
      "Enter the plain text: DigitalUniversity\n",
      "Enter the key: 4\n",
      "Encrypted text: QVTVGNYHAVIREFVGL\n",
      "Decrypted text: DIGITALUNIVERSITY\n"
     ]
    }
   ],
   "source": [
    "def vigenere_encrypt(plain_text, key):\n",
    "    encrypted_text = ''\n",
    "    for i in range(len(plain_text)):\n",
    "        plain_char = plain_text[i].upper()\n",
    "        key_char = key[i % len(key)].upper()\n",
    "        shift = ord(key_char) - 65\n",
    "        encrypted_char = chr(((ord(plain_char) - 65 + shift) % 26) + 65)\n",
    "        encrypted_text += encrypted_char\n",
    "    return encrypted_text\n",
    "\n",
    "def vigenere_decrypt(cipher_text, key):\n",
    "    decrypted_text = ''\n",
    "    for i in range(len(cipher_text)):\n",
    "        cipher_char = cipher_text[i].upper()\n",
    "        key_char = key[i % len(key)].upper()\n",
    "        shift = ord(key_char) - 65\n",
    "        decrypted_char = chr(((ord(cipher_char) - 65 - shift) % 26) + 65)\n",
    "        decrypted_text += decrypted_char\n",
    "    return decrypted_text\n",
    "\n",
    "plain_text = input(\"Enter the plain text: \")\n",
    "key = input(\"Enter the key: \")\n",
    "\n",
    "encrypted_text = vigenere_encrypt(plain_text, key)\n",
    "print(\"Encrypted text:\", encrypted_text)\n",
    "\n",
    "decrypted_text = vigenere_decrypt(encrypted_text, key)\n",
    "print(\"Decrypted text:\", decrypted_text)\n"
   ]
  }
 ],
 "metadata": {
  "kernelspec": {
   "display_name": "Python 3 (ipykernel)",
   "language": "python",
   "name": "python3"
  },
  "language_info": {
   "codemirror_mode": {
    "name": "ipython",
    "version": 3
   },
   "file_extension": ".py",
   "mimetype": "text/x-python",
   "name": "python",
   "nbconvert_exporter": "python",
   "pygments_lexer": "ipython3",
   "version": "3.11.5"
  }
 },
 "nbformat": 4,
 "nbformat_minor": 5
}
