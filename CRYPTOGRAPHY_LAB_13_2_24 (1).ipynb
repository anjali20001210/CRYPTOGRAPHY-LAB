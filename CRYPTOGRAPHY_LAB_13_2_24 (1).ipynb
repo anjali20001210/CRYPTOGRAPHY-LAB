{
 "cells": [
  {
   "cell_type": "code",
   "execution_count": 5,
   "id": "34ac47e0",
   "metadata": {},
   "outputs": [
    {
     "name": "stdout",
     "output_type": "stream",
     "text": [
      "Enter the choice: 4\n",
      "Enter an integer: 6\n",
      "Enter an integer: 8\n",
      "Enter a positive integer: 7\n",
      "1\n"
     ]
    }
   ],
   "source": [
    "def mod_multi(a,b,n):\n",
    "    e=a*b\n",
    "    multiplication=e%n\n",
    "    print(multiplication)\n",
    "def mod_expo(a,b,n):\n",
    "    f=a**b\n",
    "    exponentiation=f%n\n",
    "    print(exponentiation)\n",
    "\n",
    "def mod_sub(a,b,n):\n",
    "    d=a-b\n",
    "    subtraction=d%n\n",
    "    print(subtraction)\n",
    "def mod_add(a,b,n):\n",
    "    c=a+b\n",
    "    addition=c%n\n",
    "    print(addition)\n",
    "    \n",
    "ch=int(input(\"Enter the choice: \"))\n",
    "a=int(input(\"Enter an integer: \"))\n",
    "b=int(input(\"Enter an integer: \"))\n",
    "n=int(input(\"Enter a positive integer: \"))\n",
    "\n",
    "if ch==1:\n",
    "    mod_add(a,b,n)\n",
    "elif ch==2:\n",
    "    mod_sub(a,b,n)\n",
    "elif ch==3:\n",
    "    mod_multi(a,b,n)\n",
    "else:\n",
    "    mod_expo(a,b,n)\n"
   ]
  },
  {
   "cell_type": "code",
   "execution_count": 1,
   "id": "52f82910",
   "metadata": {},
   "outputs": [
    {
     "name": "stdout",
     "output_type": "stream",
     "text": [
      "Enter a number: 54\n",
      "Number of  elements less than 54 : 18\n"
     ]
    }
   ],
   "source": [
    "def gcd(a, b):\n",
    "    while b:\n",
    "        a, b = b, a % b\n",
    "    return a\n",
    "\n",
    "def euler(n):\n",
    "    count = 0\n",
    "    for i in range(1, n):\n",
    "        if gcd(i, n) == 1:\n",
    "            count += 1\n",
    "    return count\n",
    "\n",
    "def ele_lt_n(n):\n",
    "    return euler(n)\n",
    "n =int(input(\"Enter a number: \"))\n",
    "print(\"Number of  elements less than\", n, \":\", ele_lt_n(n))"
   ]
  },
  {
   "cell_type": "code",
   "execution_count": null,
   "id": "8c6e5d61",
   "metadata": {},
   "outputs": [],
   "source": []
  },
  {
   "cell_type": "code",
   "execution_count": null,
   "id": "ee95ee8a",
   "metadata": {},
   "outputs": [],
   "source": []
  }
 ],
 "metadata": {
  "kernelspec": {
   "display_name": "Python 3 (ipykernel)",
   "language": "python",
   "name": "python3"
  },
  "language_info": {
   "codemirror_mode": {
    "name": "ipython",
    "version": 3
   },
   "file_extension": ".py",
   "mimetype": "text/x-python",
   "name": "python",
   "nbconvert_exporter": "python",
   "pygments_lexer": "ipython3",
   "version": "3.11.5"
  }
 },
 "nbformat": 4,
 "nbformat_minor": 5
}
