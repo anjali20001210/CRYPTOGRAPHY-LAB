import random

def gcd(num1, num2):
    while num2:
        num1, num2 = num2, num1 % num2
    return num1

def totient(prime1, prime2):
    return (prime1 - 1) * (prime2 - 1)

def coprime(totient_value):
    coprime_values = []
    for value in range(2, totient_value):
        if gcd(value, totient_value) == 1:
            coprime_values.append(value)
    return coprime_values

def euclidean(num1, num2):
    if num1 == 0:
        return num2, 0, 1
    gcd_value, x, y = euclidean(num2 % num1, num1)
    x_new = y - (num2 // num1) * x
    y_new = x
    return gcd_value, x_new, y_new

def mod_inverse(num, modulus):
    gcd_value, x, y = euclidean(num, modulus)
    if gcd_value != 1:
        return None
    else:
        return x % modulus

def textcoversion(text_data):
    binary_string = ""
    for char in text_data:
        binary_string += format(ord(char), '08b')
    return binary_string

def binarycoversion(binary_data):
    text_data = ""
    for i in range(0, len(binary_data), 8):
        char = binary_data[i:i+8]
        text_data += chr(int(char, 2))
    return text_data

def encrypt(message, public_key, modulus):
    key_length = modulus.bit_length()
    binary_message = textcoversion(message)
    block_size = key_length - 2
    encrypted_blocks = ""
    for i in range(0, len(binary_message), block_size):
        block = binary_message[i:i+block_size]
        block = int(block, 2)
        encrypted_block = pow(block, public_key, modulus)
        encrypted_block_bin = format(encrypted_block, f'0{key_length}b')
        encrypted_blocks += encrypted_block_bin
    return encrypted_blocks

def decrypt(ciphertext, private_key, modulus):
    key_length = modulus.bit_length()
    decrypted_binary_message = ""
    for i in range(0, len(ciphertext), key_length):
        block = ciphertext[i:i+key_length]
        block = int(block, 2)
        decrypted_block = pow(block, private_key, modulus)
        decrypted_block_bin = format(decrypted_block, f'0{key_length - 2}b')
        decrypted_binary_message += decrypted_block_bin
    decrypted_message = binarycoversion(decrypted_binary_message)
    return decrypted_message

def keys(prime1, prime2):
    modulus = prime1 * prime2
    totient_value = totient(prime1, prime2)
    coprime_values = coprime(totient_value)
    public_key = random.choice(coprime_values)
    private_key = mod_inverse(public_key, totient_value)
    return public_key, private_key, modulus

prime1 = int(input("Enter prime number p: "))
prime2 = int(input("Enter prime number q: "))
message = input("Enter the message to be encrypted: ")

public_key, private_key, modulus = keys(prime1, prime2)
print("Public key:", public_key)
print("Private key:", private_key)

ciphertext = encrypt(message, public_key, modulus)
print("Ciphertext:", ciphertext)

decrypted_message = decrypt(ciphertext, private_key, modulus)
print("Decrypted message:", decrypted_message)

