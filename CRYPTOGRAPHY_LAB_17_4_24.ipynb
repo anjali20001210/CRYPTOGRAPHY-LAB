{
 "cells": [
  {
   "cell_type": "code",
   "execution_count": 2,
   "id": "4613ca03",
   "metadata": {},
   "outputs": [
    {
     "name": "stdout",
     "output_type": "stream",
     "text": [
      "Enter the plain text: digital\n",
      "Plaintext: digital\n",
      "Key: AQPVDTY\n",
      "Ciphertext: &(7?#/(\n",
      "Decrypted Text: digital\n"
     ]
    }
   ],
   "source": [
    "import random\n",
    "\n",
    "def generate_key(plaintext_length):\n",
    "    key = ''.join(random.choice('ABCDEFGHIJKLMNOPQRSTUVWXYZ') for _ in range(plaintext_length))\n",
    "    return key\n",
    "\n",
    "def encrypt(plt, k):\n",
    "    ciphertext = ''.join(chr(ord(p) ^ ord(k)) for p, k in zip(plaintext, key))\n",
    "    return ciphertext\n",
    "\n",
    "def decrypt(ciphertext, key):\n",
    "    decrypted_text = ''.join(chr(ord(c) ^ ord(k)) for c, k in zip(ciphertext, key))\n",
    "    return decrypted_text\n",
    "\n",
    "\n",
    "plain_text = input(\"Enter the plain text: \")\n",
    "key = generate_key(len(plain_text))\n",
    "\n",
    "print(\"Plaintext:\", plain_text)\n",
    "print(\"Key:\", key)\n",
    "\n",
    "cipher_text = encrypt(plain_text, key)\n",
    "print(\"Ciphertext:\", ciphertext)\n",
    "\n",
    "decrypted_text = decrypt(cipher_text, key)\n",
    "print(\"Decrypted Text:\", decrypted_text)\n"
   ]
  }
 ],
 "metadata": {
  "kernelspec": {
   "display_name": "Python 3 (ipykernel)",
   "language": "python",
   "name": "python3"
  },
  "language_info": {
   "codemirror_mode": {
    "name": "ipython",
    "version": 3
   },
   "file_extension": ".py",
   "mimetype": "text/x-python",
   "name": "python",
   "nbconvert_exporter": "python",
   "pygments_lexer": "ipython3",
   "version": "3.11.5"
  }
 },
 "nbformat": 4,
 "nbformat_minor": 5
}
