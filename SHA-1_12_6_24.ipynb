{
 "cells": [
  {
   "cell_type": "code",
   "execution_count": 11,
   "id": "c583f5bf-41bd-4da9-82df-f91cda1f800a",
   "metadata": {},
   "outputs": [
    {
     "name": "stdin",
     "output_type": "stream",
     "text": [
      "Enter a string to hash using SHA-1:  kerala\n"
     ]
    },
    {
     "name": "stdout",
     "output_type": "stream",
     "text": [
      "SHA-1 Hash of 'kerala': 5d59a763175954d7fb31a5e31086fee2e1f4af5b\n"
     ]
    }
   ],
   "source": [
    "def left_rotate(value, bits):\n",
    "    return ((value << bits) | (value >> (32 - bits))) & 0xffffffff\n",
    "\n",
    "def preprocess(message):\n",
    "    message = bytearray(message, 'utf-8')\n",
    "    original_len_in_bits = (8 * len(message)) & 0xffffffffffffffff\n",
    "    \n",
    "    message.append(0x80)\n",
    "    \n",
    "    while (len(message) * 8) % 512 != 448:\n",
    "        message.append(0)\n",
    "    \n",
    "    message += original_len_in_bits.to_bytes(8, byteorder='big')\n",
    "    return message\n",
    "\n",
    "def process_chunk(chunk, h0, h1, h2, h3, h4):\n",
    "    w = [0] * 80\n",
    "    for i in range(16):\n",
    "        w[i] = int.from_bytes(chunk[i*4:i*4+4], byteorder='big')\n",
    "    \n",
    "    for i in range(16, 80):\n",
    "        w[i] = left_rotate(w[i-3] ^ w[i-8] ^ w[i-14] ^ w[i-16], 1)\n",
    "    \n",
    "    a = h0\n",
    "    b = h1\n",
    "    c = h2\n",
    "    d = h3\n",
    "    e = h4\n",
    "    \n",
    "    for i in range(80):\n",
    "        if 0 <= i <= 19:\n",
    "            f = (b & c) | ((~b) & d)\n",
    "            k = 0x5A827999\n",
    "        elif 20 <= i <= 39:\n",
    "            f = b ^ c ^ d\n",
    "            k = 0x6ED9EBA1\n",
    "        elif 40 <= i <= 59:\n",
    "            f = (b & c) | (b & d) | (c & d)\n",
    "            k = 0x8F1BBCDC\n",
    "        elif 60 <= i <= 79:\n",
    "            f = b ^ c ^ d\n",
    "            k = 0xCA62C1D6\n",
    "        \n",
    "        temp = (left_rotate(a, 5) + f + e + k + w[i]) & 0xffffffff\n",
    "        e = d\n",
    "        d = c\n",
    "        c = left_rotate(b, 30)\n",
    "        b = a\n",
    "        a = temp\n",
    "    \n",
    "    h0 = (h0 + a) & 0xffffffff\n",
    "    h1 = (h1 + b) & 0xffffffff\n",
    "    h2 = (h2 + c) & 0xffffffff\n",
    "    h3 = (h3 + d) & 0xffffffff\n",
    "    h4 = (h4 + e) & 0xffffffff\n",
    "    \n",
    "    return h0, h1, h2, h3, h4\n",
    "\n",
    "def sha1(data):\n",
    "    h0 = 0x67452301\n",
    "    h1 = 0xEFCDAB89\n",
    "    h2 = 0x98BADCFE\n",
    "    h3 = 0x10325476\n",
    "    h4 = 0xC3D2E1F0\n",
    "    \n",
    "    message = preprocess(data)\n",
    "    \n",
    "    for i in range(0, len(message), 64):\n",
    "        h0, h1, h2, h3, h4 = process_chunk(message[i:i+64], h0, h1, h2, h3, h4)\n",
    "    \n",
    "    return ''.join(f'{x:08x}' for x in (h0, h1, h2, h3, h4))\n",
    "\n",
    "def test_sha1():\n",
    "    test_vectors = {\n",
    "        \"\": \"da39a3ee5e6b4b0d3255bfef95601890afd80709\",\n",
    "        \"abc\": \"a9993e364706816aba3e25717850c26c9cd0d89d\",\n",
    "        \"message digest\": \"c12252ceda8be8994d5fa0290a47231c1d16aae3\",\n",
    "        \"secure hash algorithm\": \"f30ceb4d2dc9c9ac5cdcd7d1c1c8b6db4e7fadd0\",\n",
    "        \"SHA-1 is a cryptographic hash function\": \"d7b51b5f98e8ed2f5749c25d5f858d473a5b3d9f\"\n",
    "    }\n",
    "    \n",
    "    for msg, expected in test_vectors.items():\n",
    "        actual = sha1(msg)\n",
    "        if actual != expected:\n",
    "            print(f\"Test failed for: {msg}\")\n",
    "            print(f\"Expected: {expected}\")\n",
    "            print(f\"Actual:   {actual}\")\n",
    "            print() \n",
    "    print(\"All tests passed!\")\n",
    "\n",
    "user_input = input(\"Enter a string to hash using SHA-1: \")\n",
    "hashed_value = sha1(user_input)\n",
    "print(f\"SHA-1 Hash of '{user_input}': {hashed_value}\")\n"
   ]
  },
  {
   "cell_type": "code",
   "execution_count": null,
   "id": "ebc4c755-aa83-4fe1-8d71-b4cbcdf0a53d",
   "metadata": {},
   "outputs": [],
   "source": []
  },
  {
   "cell_type": "code",
   "execution_count": null,
   "id": "54ce5fb7-c974-4125-897c-91ead94c5488",
   "metadata": {},
   "outputs": [],
   "source": []
  }
 ],
 "metadata": {
  "kernelspec": {
   "display_name": "Python 3 (ipykernel)",
   "language": "python",
   "name": "python3"
  },
  "language_info": {
   "codemirror_mode": {
    "name": "ipython",
    "version": 3
   },
   "file_extension": ".py",
   "mimetype": "text/x-python",
   "name": "python",
   "nbconvert_exporter": "python",
   "pygments_lexer": "ipython3",
   "version": "3.12.3"
  }
 },
 "nbformat": 4,
 "nbformat_minor": 5
}
